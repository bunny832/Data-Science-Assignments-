{
 "cells": [
  {
   "cell_type": "code",
   "execution_count": 12,
   "id": "4fdc4164",
   "metadata": {},
   "outputs": [
    {
     "data": {
      "text/plain": [
       "array([1.13, 1.55, 1.43, 0.92, 1.25, 1.36, 1.32, 0.85, 1.07, 1.48, 1.2 ,\n",
       "       1.33, 1.18, 1.22, 1.29])"
      ]
     },
     "execution_count": 12,
     "metadata": {},
     "output_type": "execute_result"
    }
   ],
   "source": [
    "# given data is imported in the form of numpy \n",
    "import numpy as np\n",
    "df=np.array([1.13,1.55,1.43,0.92,1.25,1.36,1.32,0.85,1.07,1.48,1.20,1.33,1.18,1.22,1.29])\n",
    "df"
   ]
  },
  {
   "cell_type": "code",
   "execution_count": 13,
   "id": "d13a7522",
   "metadata": {},
   "outputs": [
    {
     "data": {
      "text/plain": [
       "1.2386666666666666"
      ]
     },
     "execution_count": 13,
     "metadata": {},
     "output_type": "execute_result"
    }
   ],
   "source": [
    "# calculate the mean \n",
    "sample_mean = df.mean()\n",
    "df.mean()"
   ]
  },
  {
   "cell_type": "code",
   "execution_count": 14,
   "id": "a40703e7",
   "metadata": {},
   "outputs": [
    {
     "data": {
      "text/plain": [
       "0.18661427836285438"
      ]
     },
     "execution_count": 14,
     "metadata": {},
     "output_type": "execute_result"
    }
   ],
   "source": [
    "# calculate the standard deviation \n",
    "sample_std=df.std()\n",
    "df.std()"
   ]
  },
  {
   "cell_type": "code",
   "execution_count": 19,
   "id": "bf79e12f",
   "metadata": {},
   "outputs": [
    {
     "name": "stdout",
     "output_type": "stream",
     "text": [
      "I am 99% confidence that characters printed before the print-head fails (1.0952316686385626, 1.3821016646947706)\n"
     ]
    }
   ],
   "source": [
    "# here we are using the package scipy to find the confidence interval \n",
    "from scipy import stats\n",
    "confidence_level=0.99 # given to find at 99% \n",
    "degree_of_freedom =len(df)-1\n",
    "sample_standard_error=sample_std/np.sqrt(len(df)) # here by to find by sample mean \n",
    "Confidence_interval=stats.t.interval(confidence_level,degree_of_freedom,sample_mean,sample_standard_error)\n",
    "print(\"I am 99% confidence that characters printed before the print-head fails\",Confidence_interval)"
   ]
  },
  {
   "cell_type": "code",
   "execution_count": 21,
   "id": "e459f027",
   "metadata": {},
   "outputs": [
    {
     "name": "stdout",
     "output_type": "stream",
     "text": [
      "I am 99% confidence that mean number of characters printed before failure (1.1056514133957607, 1.3716819199375725)\n"
     ]
    }
   ],
   "source": [
    "confidence_level=0.99 # given in the question to find 99%\n",
    "degree_of_freedom=len(df)-1 # degree of freedom \n",
    "population_std=0.2\n",
    "standard_error=population_std/np.sqrt(len(df))\n",
    "Confidence_interval=stats.norm.interval(confidence_level,loc=sample_mean,scale=standard_error) # here to find by population mean \n",
    "print(\"I am 99% confidence that mean number of characters printed before failure\",Confidence_interval)"
   ]
  },
  {
   "cell_type": "code",
   "execution_count": null,
   "id": "c1c6e1f0",
   "metadata": {},
   "outputs": [],
   "source": []
  }
 ],
 "metadata": {
  "kernelspec": {
   "display_name": "Python 3 (ipykernel)",
   "language": "python",
   "name": "python3"
  },
  "language_info": {
   "codemirror_mode": {
    "name": "ipython",
    "version": 3
   },
   "file_extension": ".py",
   "mimetype": "text/x-python",
   "name": "python",
   "nbconvert_exporter": "python",
   "pygments_lexer": "ipython3",
   "version": "3.12.4"
  }
 },
 "nbformat": 4,
 "nbformat_minor": 5
}

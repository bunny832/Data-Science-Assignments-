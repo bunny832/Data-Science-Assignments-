{
 "cells": [
  {
   "cell_type": "code",
   "execution_count": 2,
   "id": "28d5413d-3b36-4c23-baf3-282dc387cfda",
   "metadata": {},
   "outputs": [],
   "source": [
    "# Import the data sets  using pandas \n",
    "import pandas as pd \n",
    "df=pd.read_csv(\"C:\\\\Users\\\\balav\\\\Downloads\\\\blogs.csv\")\n"
   ]
  },
  {
   "cell_type": "code",
   "execution_count": 3,
   "id": "f5d9ba06-444a-4e29-9489-2ccce0761832",
   "metadata": {},
   "outputs": [
    {
     "data": {
      "text/html": [
       "<div>\n",
       "<style scoped>\n",
       "    .dataframe tbody tr th:only-of-type {\n",
       "        vertical-align: middle;\n",
       "    }\n",
       "\n",
       "    .dataframe tbody tr th {\n",
       "        vertical-align: top;\n",
       "    }\n",
       "\n",
       "    .dataframe thead th {\n",
       "        text-align: right;\n",
       "    }\n",
       "</style>\n",
       "<table border=\"1\" class=\"dataframe\">\n",
       "  <thead>\n",
       "    <tr style=\"text-align: right;\">\n",
       "      <th></th>\n",
       "      <th>Data</th>\n",
       "      <th>Labels</th>\n",
       "    </tr>\n",
       "  </thead>\n",
       "  <tbody>\n",
       "    <tr>\n",
       "      <th>0</th>\n",
       "      <td>Path: cantaloupe.srv.cs.cmu.edu!magnesium.club...</td>\n",
       "      <td>alt.atheism</td>\n",
       "    </tr>\n",
       "    <tr>\n",
       "      <th>1</th>\n",
       "      <td>Newsgroups: alt.atheism\\nPath: cantaloupe.srv....</td>\n",
       "      <td>alt.atheism</td>\n",
       "    </tr>\n",
       "    <tr>\n",
       "      <th>2</th>\n",
       "      <td>Path: cantaloupe.srv.cs.cmu.edu!das-news.harva...</td>\n",
       "      <td>alt.atheism</td>\n",
       "    </tr>\n",
       "    <tr>\n",
       "      <th>3</th>\n",
       "      <td>Path: cantaloupe.srv.cs.cmu.edu!magnesium.club...</td>\n",
       "      <td>alt.atheism</td>\n",
       "    </tr>\n",
       "    <tr>\n",
       "      <th>4</th>\n",
       "      <td>Xref: cantaloupe.srv.cs.cmu.edu alt.atheism:53...</td>\n",
       "      <td>alt.atheism</td>\n",
       "    </tr>\n",
       "  </tbody>\n",
       "</table>\n",
       "</div>"
      ],
      "text/plain": [
       "                                                Data       Labels\n",
       "0  Path: cantaloupe.srv.cs.cmu.edu!magnesium.club...  alt.atheism\n",
       "1  Newsgroups: alt.atheism\\nPath: cantaloupe.srv....  alt.atheism\n",
       "2  Path: cantaloupe.srv.cs.cmu.edu!das-news.harva...  alt.atheism\n",
       "3  Path: cantaloupe.srv.cs.cmu.edu!magnesium.club...  alt.atheism\n",
       "4  Xref: cantaloupe.srv.cs.cmu.edu alt.atheism:53...  alt.atheism"
      ]
     },
     "execution_count": 3,
     "metadata": {},
     "output_type": "execute_result"
    }
   ],
   "source": [
    "# It will show the first five columns \n",
    "df.head()"
   ]
  },
  {
   "cell_type": "code",
   "execution_count": 4,
   "id": "1bf20d63-ec95-4578-9a54-ee3189659d8e",
   "metadata": {},
   "outputs": [
    {
     "data": {
      "text/html": [
       "<div>\n",
       "<style scoped>\n",
       "    .dataframe tbody tr th:only-of-type {\n",
       "        vertical-align: middle;\n",
       "    }\n",
       "\n",
       "    .dataframe tbody tr th {\n",
       "        vertical-align: top;\n",
       "    }\n",
       "\n",
       "    .dataframe thead th {\n",
       "        text-align: right;\n",
       "    }\n",
       "</style>\n",
       "<table border=\"1\" class=\"dataframe\">\n",
       "  <thead>\n",
       "    <tr style=\"text-align: right;\">\n",
       "      <th></th>\n",
       "      <th>Data</th>\n",
       "      <th>Labels</th>\n",
       "    </tr>\n",
       "  </thead>\n",
       "  <tbody>\n",
       "    <tr>\n",
       "      <th>count</th>\n",
       "      <td>2000</td>\n",
       "      <td>2000</td>\n",
       "    </tr>\n",
       "    <tr>\n",
       "      <th>unique</th>\n",
       "      <td>2000</td>\n",
       "      <td>20</td>\n",
       "    </tr>\n",
       "    <tr>\n",
       "      <th>top</th>\n",
       "      <td>Path: cantaloupe.srv.cs.cmu.edu!magnesium.club...</td>\n",
       "      <td>alt.atheism</td>\n",
       "    </tr>\n",
       "    <tr>\n",
       "      <th>freq</th>\n",
       "      <td>1</td>\n",
       "      <td>100</td>\n",
       "    </tr>\n",
       "  </tbody>\n",
       "</table>\n",
       "</div>"
      ],
      "text/plain": [
       "                                                     Data       Labels\n",
       "count                                                2000         2000\n",
       "unique                                               2000           20\n",
       "top     Path: cantaloupe.srv.cs.cmu.edu!magnesium.club...  alt.atheism\n",
       "freq                                                    1          100"
      ]
     },
     "execution_count": 4,
     "metadata": {},
     "output_type": "execute_result"
    }
   ],
   "source": [
    "#It will describe the columns \n",
    "df.describe()"
   ]
  },
  {
   "cell_type": "code",
   "execution_count": 5,
   "id": "13b37c29-955e-4e85-afa9-923ddcfe6fb2",
   "metadata": {},
   "outputs": [
    {
     "name": "stdout",
     "output_type": "stream",
     "text": [
      "<class 'pandas.core.frame.DataFrame'>\n",
      "RangeIndex: 2000 entries, 0 to 1999\n",
      "Data columns (total 2 columns):\n",
      " #   Column  Non-Null Count  Dtype \n",
      "---  ------  --------------  ----- \n",
      " 0   Data    2000 non-null   object\n",
      " 1   Labels  2000 non-null   object\n",
      "dtypes: object(2)\n",
      "memory usage: 31.4+ KB\n"
     ]
    }
   ],
   "source": [
    "df.info()"
   ]
  },
  {
   "cell_type": "code",
   "execution_count": 10,
   "id": "8a2d0c6a-0aa9-4e50-9536-03a66d2b384e",
   "metadata": {},
   "outputs": [
    {
     "name": "stdout",
     "output_type": "stream",
     "text": [
      "\n",
      "Missing values in the blogs data:\n"
     ]
    },
    {
     "name": "stderr",
     "output_type": "stream",
     "text": [
      "[nltk_data] Downloading package stopwords to\n",
      "[nltk_data]     C:\\Users\\balav\\AppData\\Roaming\\nltk_data...\n",
      "[nltk_data]   Package stopwords is already up-to-date!\n",
      "[nltk_data] Downloading package punkt to\n",
      "[nltk_data]     C:\\Users\\balav\\AppData\\Roaming\\nltk_data...\n",
      "[nltk_data]   Package punkt is already up-to-date!\n"
     ]
    },
    {
     "data": {
      "text/plain": [
       "Data      0\n",
       "Labels    0\n",
       "dtype: int64"
      ]
     },
     "metadata": {},
     "output_type": "display_data"
    },
    {
     "name": "stdout",
     "output_type": "stream",
     "text": [
      "\n",
      "First 5 rows of data after preprocessing:\n"
     ]
    },
    {
     "data": {
      "text/html": [
       "<div>\n",
       "<style scoped>\n",
       "    .dataframe tbody tr th:only-of-type {\n",
       "        vertical-align: middle;\n",
       "    }\n",
       "\n",
       "    .dataframe tbody tr th {\n",
       "        vertical-align: top;\n",
       "    }\n",
       "\n",
       "    .dataframe thead th {\n",
       "        text-align: right;\n",
       "    }\n",
       "</style>\n",
       "<table border=\"1\" class=\"dataframe\">\n",
       "  <thead>\n",
       "    <tr style=\"text-align: right;\">\n",
       "      <th></th>\n",
       "      <th>Data</th>\n",
       "      <th>Labels</th>\n",
       "      <th>Cleaned_Data</th>\n",
       "      <th>Tokens</th>\n",
       "      <th>Tokens_NoStopwords</th>\n",
       "      <th>Processed_Text</th>\n",
       "    </tr>\n",
       "  </thead>\n",
       "  <tbody>\n",
       "    <tr>\n",
       "      <th>0</th>\n",
       "      <td>Path: cantaloupe.srv.cs.cmu.edu!magnesium.club...</td>\n",
       "      <td>alt.atheism</td>\n",
       "      <td>path cantaloupesrvcscmuedumagnesiumclubcccmued...</td>\n",
       "      <td>[path, cantaloupesrvcscmuedumagnesiumclubcccmu...</td>\n",
       "      <td>[path, cantaloupesrvcscmuedumagnesiumclubcccmu...</td>\n",
       "      <td>path cantaloupesrvcscmuedumagnesiumclubcccmued...</td>\n",
       "    </tr>\n",
       "    <tr>\n",
       "      <th>1</th>\n",
       "      <td>Newsgroups: alt.atheism\\nPath: cantaloupe.srv....</td>\n",
       "      <td>alt.atheism</td>\n",
       "      <td>newsgroups altatheism\\npath cantaloupesrvcscmu...</td>\n",
       "      <td>[newsgroups, altatheism, path, cantaloupesrvcs...</td>\n",
       "      <td>[newsgroups, altatheism, path, cantaloupesrvcs...</td>\n",
       "      <td>newsgroups altatheism path cantaloupesrvcscmue...</td>\n",
       "    </tr>\n",
       "    <tr>\n",
       "      <th>2</th>\n",
       "      <td>Path: cantaloupe.srv.cs.cmu.edu!das-news.harva...</td>\n",
       "      <td>alt.atheism</td>\n",
       "      <td>path cantaloupesrvcscmuedudasnewsharvardedunoc...</td>\n",
       "      <td>[path, cantaloupesrvcscmuedudasnewsharvardedun...</td>\n",
       "      <td>[path, cantaloupesrvcscmuedudasnewsharvardedun...</td>\n",
       "      <td>path cantaloupesrvcscmuedudasnewsharvardedunoc...</td>\n",
       "    </tr>\n",
       "    <tr>\n",
       "      <th>3</th>\n",
       "      <td>Path: cantaloupe.srv.cs.cmu.edu!magnesium.club...</td>\n",
       "      <td>alt.atheism</td>\n",
       "      <td>path cantaloupesrvcscmuedumagnesiumclubcccmued...</td>\n",
       "      <td>[path, cantaloupesrvcscmuedumagnesiumclubcccmu...</td>\n",
       "      <td>[path, cantaloupesrvcscmuedumagnesiumclubcccmu...</td>\n",
       "      <td>path cantaloupesrvcscmuedumagnesiumclubcccmued...</td>\n",
       "    </tr>\n",
       "    <tr>\n",
       "      <th>4</th>\n",
       "      <td>Xref: cantaloupe.srv.cs.cmu.edu alt.atheism:53...</td>\n",
       "      <td>alt.atheism</td>\n",
       "      <td>xref cantaloupesrvcscmuedu altatheism talkreli...</td>\n",
       "      <td>[xref, cantaloupesrvcscmuedu, altatheism, talk...</td>\n",
       "      <td>[xref, cantaloupesrvcscmuedu, altatheism, talk...</td>\n",
       "      <td>xref cantaloupesrvcscmuedu altatheism talkreli...</td>\n",
       "    </tr>\n",
       "  </tbody>\n",
       "</table>\n",
       "</div>"
      ],
      "text/plain": [
       "                                                Data       Labels  \\\n",
       "0  Path: cantaloupe.srv.cs.cmu.edu!magnesium.club...  alt.atheism   \n",
       "1  Newsgroups: alt.atheism\\nPath: cantaloupe.srv....  alt.atheism   \n",
       "2  Path: cantaloupe.srv.cs.cmu.edu!das-news.harva...  alt.atheism   \n",
       "3  Path: cantaloupe.srv.cs.cmu.edu!magnesium.club...  alt.atheism   \n",
       "4  Xref: cantaloupe.srv.cs.cmu.edu alt.atheism:53...  alt.atheism   \n",
       "\n",
       "                                        Cleaned_Data  \\\n",
       "0  path cantaloupesrvcscmuedumagnesiumclubcccmued...   \n",
       "1  newsgroups altatheism\\npath cantaloupesrvcscmu...   \n",
       "2  path cantaloupesrvcscmuedudasnewsharvardedunoc...   \n",
       "3  path cantaloupesrvcscmuedumagnesiumclubcccmued...   \n",
       "4  xref cantaloupesrvcscmuedu altatheism talkreli...   \n",
       "\n",
       "                                              Tokens  \\\n",
       "0  [path, cantaloupesrvcscmuedumagnesiumclubcccmu...   \n",
       "1  [newsgroups, altatheism, path, cantaloupesrvcs...   \n",
       "2  [path, cantaloupesrvcscmuedudasnewsharvardedun...   \n",
       "3  [path, cantaloupesrvcscmuedumagnesiumclubcccmu...   \n",
       "4  [xref, cantaloupesrvcscmuedu, altatheism, talk...   \n",
       "\n",
       "                                  Tokens_NoStopwords  \\\n",
       "0  [path, cantaloupesrvcscmuedumagnesiumclubcccmu...   \n",
       "1  [newsgroups, altatheism, path, cantaloupesrvcs...   \n",
       "2  [path, cantaloupesrvcscmuedudasnewsharvardedun...   \n",
       "3  [path, cantaloupesrvcscmuedumagnesiumclubcccmu...   \n",
       "4  [xref, cantaloupesrvcscmuedu, altatheism, talk...   \n",
       "\n",
       "                                      Processed_Text  \n",
       "0  path cantaloupesrvcscmuedumagnesiumclubcccmued...  \n",
       "1  newsgroups altatheism path cantaloupesrvcscmue...  \n",
       "2  path cantaloupesrvcscmuedudasnewsharvardedunoc...  \n",
       "3  path cantaloupesrvcscmuedumagnesiumclubcccmued...  \n",
       "4  xref cantaloupesrvcscmuedu altatheism talkreli...  "
      ]
     },
     "metadata": {},
     "output_type": "display_data"
    },
    {
     "name": "stdout",
     "output_type": "stream",
     "text": [
      "\n",
      "TF-IDF matrix shape: (2000, 5000)\n",
      "Feature extraction complete.\n"
     ]
    }
   ],
   "source": [
    "import re\n",
    "import nltk\n",
    "from nltk.corpus import stopwords\n",
    "from sklearn.feature_extraction.text import TfidfVectorizer\n",
    "\n",
    "# Ensure necessary NLTK data is downloaded\n",
    "nltk.download('stopwords')\n",
    "nltk.download('punkt')\n",
    "\n",
    "\n",
    "# Check for missing values\n",
    "print(\"\\nMissing values in the blogs data:\")\n",
    "display(df.isnull().sum())\n",
    "\n",
    "\n",
    "# Preprocess the text data\n",
    "\n",
    "def clean_text(text):\n",
    "    # Remove punctuation and numbers\n",
    "    text = re.sub(r'[^a-zA-Z\\s]', '', text)\n",
    "    # Convert to lowercase\n",
    "    text = text.lower()\n",
    "    return text\n",
    "\n",
    "df['Cleaned_Data'] = df['Data'].apply(clean_text)\n",
    "\n",
    "# Tokenize the text\n",
    "df['Tokens'] = df['Cleaned_Data'].apply(lambda x: x.split())\n",
    "\n",
    "# Remove stopwords\n",
    "stop_words = set(stopwords.words('english'))\n",
    "df['Tokens_NoStopwords'] = df['Tokens'].apply(lambda x: [word for word in x if word not in stop_words])\n",
    "\n",
    "# Rejoin tokens into a string for TF-IDF\n",
    "df['Processed_Text'] = df['Tokens_NoStopwords'].apply(lambda x: ' '.join(x))\n",
    "\n",
    "print(\"\\nFirst 5 rows of data after preprocessing:\")\n",
    "display(df.head())\n",
    "\n",
    "# Feature Extraction using TF-IDF\n",
    "# Initialize TF-IDF Vectorizer\n",
    "tfidf_vectorizer = TfidfVectorizer(max_features=5000) # You can adjust max_features\n",
    "\n",
    "# Fit and transform the processed text data\n",
    "tfidf_matrix = tfidf_vectorizer.fit_transform(df['Processed_Text'])\n",
    "\n",
    "print(\"\\nTF-IDF matrix shape:\", tfidf_matrix.shape)\n",
    "print(\"Feature extraction complete.\")\n",
    "\n",
    "# The tfidf_matrix is now ready to be used as features for a Naive Bayes model.\n",
    "# The corresponding labels are in blogs_df['Labels']"
   ]
  },
  {
   "cell_type": "code",
   "execution_count": 11,
   "id": "c7080ed2-9b6e-4728-8f9d-4af79ab6daf8",
   "metadata": {},
   "outputs": [
    {
     "name": "stdout",
     "output_type": "stream",
     "text": [
      "\n",
      "Training set shape: (1600, 5000)\n",
      "Test set shape: (400, 5000)\n",
      "\n",
      "Training the Naive Bayes model...\n",
      "Naive Bayes model training complete.\n",
      "\n",
      "Making predictions on the test set...\n",
      "Predictions complete.\n"
     ]
    }
   ],
   "source": [
    "from sklearn.model_selection import train_test_split\n",
    "from sklearn.naive_bayes import MultinomialNB\n",
    "from sklearn.metrics import classification_report, accuracy_score\n",
    "\n",
    "# Split the data into training and test sets\n",
    "X = tfidf_matrix # Features (TF-IDF matrix)\n",
    "y = df['Labels'] # Target (Categories)\n",
    "\n",
    "X_train, X_test, y_train, y_test = train_test_split(X, y, test_size=0.2, random_state=42, stratify=y)\n",
    "\n",
    "print(f\"\\nTraining set shape: {X_train.shape}\")\n",
    "print(f\"Test set shape: {X_test.shape}\")\n",
    "\n",
    "# Implement and Train a Naive Bayes Classifier\n",
    "\n",
    "# Initialize the Multinomial Naive Bayes classifier\n",
    "# Multinomial Naive Bayes is suitable for text classification with TF-IDF features\n",
    "naive_bayes_model = MultinomialNB()\n",
    "\n",
    "# Train the model on the training data\n",
    "print(\"\\nTraining the Naive Bayes model...\")\n",
    "naive_bayes_model.fit(X_train, y_train)\n",
    "print(\"Naive Bayes model training complete.\")\n",
    "\n",
    "# Make predictions on the test set\n",
    "print(\"\\nMaking predictions on the test set...\")\n",
    "y_pred = naive_bayes_model.predict(X_test)\n",
    "print(\"Predictions complete.\")\n",
    "\n",
    "# Evaluate the model performance (Optional but recommended)\n",
    "# We will evaluate the model in the next step as requested.\n",
    "\n",
    "# The trained model (naive_bayes_model) and predictions (y_pred) are now ready for evaluation."
   ]
  },
  {
   "cell_type": "code",
   "execution_count": 15,
   "id": "201c9c8f-c9f5-466d-817f-bd72620807d5",
   "metadata": {},
   "outputs": [
    {
     "name": "stdout",
     "output_type": "stream",
     "text": [
      "Collecting textblob\n",
      "  Downloading textblob-0.19.0-py3-none-any.whl.metadata (4.4 kB)\n",
      "Collecting nltk>=3.9 (from textblob)\n",
      "  Downloading nltk-3.9.1-py3-none-any.whl.metadata (2.9 kB)\n",
      "Requirement already satisfied: click in b:\\anaconda\\lib\\site-packages (from nltk>=3.9->textblob) (8.1.7)\n",
      "Requirement already satisfied: joblib in b:\\anaconda\\lib\\site-packages (from nltk>=3.9->textblob) (1.4.2)\n",
      "Requirement already satisfied: regex>=2021.8.3 in b:\\anaconda\\lib\\site-packages (from nltk>=3.9->textblob) (2023.10.3)\n",
      "Requirement already satisfied: tqdm in b:\\anaconda\\lib\\site-packages (from nltk>=3.9->textblob) (4.66.4)\n",
      "Requirement already satisfied: colorama in b:\\anaconda\\lib\\site-packages (from click->nltk>=3.9->textblob) (0.4.6)\n",
      "Downloading textblob-0.19.0-py3-none-any.whl (624 kB)\n",
      "   ---------------------------------------- 0.0/624.3 kB ? eta -:--:--\n",
      "    --------------------------------------- 10.2/624.3 kB ? eta -:--:--\n",
      "   - ------------------------------------- 30.7/624.3 kB 435.7 kB/s eta 0:00:02\n",
      "   ------ ------------------------------- 102.4/624.3 kB 837.8 kB/s eta 0:00:01\n",
      "   ----------------- ---------------------- 266.2/624.3 kB 1.6 MB/s eta 0:00:01\n",
      "   -------------------------- ------------- 409.6/624.3 kB 2.3 MB/s eta 0:00:01\n",
      "   ---------------------------------------- 624.3/624.3 kB 2.6 MB/s eta 0:00:00\n",
      "Downloading nltk-3.9.1-py3-none-any.whl (1.5 MB)\n",
      "   ---------------------------------------- 0.0/1.5 MB ? eta -:--:--\n",
      "   ----- ---------------------------------- 0.2/1.5 MB 4.1 MB/s eta 0:00:01\n",
      "   ------------ --------------------------- 0.5/1.5 MB 5.0 MB/s eta 0:00:01\n",
      "   ------------------- -------------------- 0.7/1.5 MB 4.6 MB/s eta 0:00:01\n",
      "   --------------------------- ------------ 1.0/1.5 MB 5.0 MB/s eta 0:00:01\n",
      "   --------------------------------- ------ 1.3/1.5 MB 5.3 MB/s eta 0:00:01\n",
      "   -------------------------------------- - 1.4/1.5 MB 5.1 MB/s eta 0:00:01\n",
      "   ---------------------------------------- 1.5/1.5 MB 4.5 MB/s eta 0:00:00\n",
      "Installing collected packages: nltk, textblob\n",
      "  Attempting uninstall: nltk\n",
      "    Found existing installation: nltk 3.8.1\n",
      "    Uninstalling nltk-3.8.1:\n",
      "      Successfully uninstalled nltk-3.8.1\n",
      "Successfully installed nltk-3.9.1 textblob-0.19.0\n"
     ]
    }
   ],
   "source": [
    "!pip install textblob"
   ]
  },
  {
   "cell_type": "code",
   "execution_count": 16,
   "id": "3c567c64-5354-4647-b407-5e4f78c16976",
   "metadata": {},
   "outputs": [
    {
     "name": "stdout",
     "output_type": "stream",
     "text": [
      "                                                Data Sentiment\n",
      "0  Path: cantaloupe.srv.cs.cmu.edu!magnesium.club...  Positive\n",
      "1  Newsgroups: alt.atheism\\nPath: cantaloupe.srv....  Negative\n",
      "2  Path: cantaloupe.srv.cs.cmu.edu!das-news.harva...  Positive\n",
      "3  Path: cantaloupe.srv.cs.cmu.edu!magnesium.club...  Positive\n",
      "4  Xref: cantaloupe.srv.cs.cmu.edu alt.atheism:53...  Positive\n"
     ]
    }
   ],
   "source": [
    "from textblob import TextBlob\n",
    "\n",
    "# Define a function to classify sentiment\n",
    "def get_sentiment(text):\n",
    "    blob = TextBlob(text)\n",
    "    polarity = blob.sentiment.polarity\n",
    "    if polarity > 0:\n",
    "        return \"Positive\"\n",
    "    elif polarity < 0:\n",
    "        return \"Negative\"\n",
    "    else:\n",
    "        return \"Neutral\"\n",
    "\n",
    "# Apply sentiment analysis to the 'Data' column\n",
    "df['Sentiment'] = df['Data'].apply(get_sentiment)\n",
    "\n",
    "# Preview the results\n",
    "print(df[['Data', 'Sentiment']].head())\n"
   ]
  },
  {
   "cell_type": "code",
   "execution_count": 17,
   "id": "39366774-de03-4dc8-9e0a-07bac1e58cd2",
   "metadata": {},
   "outputs": [
    {
     "name": "stdout",
     "output_type": "stream",
     "text": [
      "\n",
      "Overall Sentiment Distribution:\n",
      "Sentiment\n",
      "Positive    1543\n",
      "Negative     457\n",
      "Name: count, dtype: int64\n",
      "\n",
      "Sentiment Distribution by Category:\n",
      "Sentiment                 Negative  Positive\n",
      "Labels                                      \n",
      "alt.atheism                     23        77\n",
      "comp.graphics                   24        76\n",
      "comp.os.ms-windows.misc         22        78\n",
      "comp.sys.ibm.pc.hardware        20        80\n",
      "comp.sys.mac.hardware           24        76\n",
      "comp.windows.x                  27        73\n",
      "misc.forsale                    16        84\n",
      "rec.autos                       17        83\n",
      "rec.motorcycles                 26        74\n",
      "rec.sport.baseball              29        71\n",
      "rec.sport.hockey                34        66\n",
      "sci.crypt                       19        81\n",
      "sci.electronics                 19        81\n",
      "sci.med                         29        71\n",
      "sci.space                       27        73\n",
      "soc.religion.christian          13        87\n",
      "talk.politics.guns              30        70\n",
      "talk.politics.mideast           22        78\n",
      "talk.politics.misc              22        78\n",
      "talk.religion.misc              14        86\n"
     ]
    }
   ],
   "source": [
    "# Count sentiment distribution overall\n",
    "sentiment_counts = df['Sentiment'].value_counts()\n",
    "print(\"\\nOverall Sentiment Distribution:\")\n",
    "print(sentiment_counts)\n",
    "\n",
    "# Sentiment distribution by category (Labels)\n",
    "sentiment_by_label = df.groupby('Labels')['Sentiment'].value_counts().unstack().fillna(0)\n",
    "print(\"\\nSentiment Distribution by Category:\")\n",
    "print(sentiment_by_label)\n"
   ]
  },
  {
   "cell_type": "code",
   "execution_count": 18,
   "id": "1a6d6722-4716-4b37-8930-27d3dea31920",
   "metadata": {},
   "outputs": [
    {
     "name": "stdout",
     "output_type": "stream",
     "text": [
      "Accuracy: 0.84\n",
      "Precision: 0.85\n",
      "Recall: 0.84\n",
      "F1-score: 0.83\n",
      "\n",
      "Detailed Classification Report:\n",
      "                          precision    recall  f1-score   support\n",
      "\n",
      "             alt.atheism       0.50      0.83      0.62        18\n",
      "           comp.graphics       0.70      0.89      0.78        18\n",
      " comp.os.ms-windows.misc       0.91      0.91      0.91        22\n",
      "comp.sys.ibm.pc.hardware       0.80      0.80      0.80        25\n",
      "   comp.sys.mac.hardware       0.86      0.90      0.88        21\n",
      "          comp.windows.x       0.95      0.84      0.89        25\n",
      "            misc.forsale       1.00      0.78      0.88        18\n",
      "               rec.autos       0.90      1.00      0.95        18\n",
      "         rec.motorcycles       1.00      0.94      0.97        16\n",
      "      rec.sport.baseball       0.84      0.89      0.86        18\n",
      "        rec.sport.hockey       0.88      1.00      0.94        15\n",
      "               sci.crypt       0.90      1.00      0.95        19\n",
      "         sci.electronics       0.65      0.69      0.67        16\n",
      "                 sci.med       0.88      0.88      0.88        17\n",
      "               sci.space       1.00      0.86      0.92        21\n",
      "  soc.religion.christian       0.92      0.96      0.94        23\n",
      "      talk.politics.guns       0.85      0.79      0.81        28\n",
      "   talk.politics.mideast       0.95      0.90      0.92        20\n",
      "      talk.politics.misc       0.76      0.89      0.82        18\n",
      "      talk.religion.misc       0.62      0.21      0.31        24\n",
      "\n",
      "                accuracy                           0.84       400\n",
      "               macro avg       0.84      0.85      0.84       400\n",
      "            weighted avg       0.85      0.84      0.83       400\n",
      "\n"
     ]
    }
   ],
   "source": [
    "from sklearn.model_selection import train_test_split\n",
    "from sklearn.naive_bayes import MultinomialNB\n",
    "from sklearn.metrics import accuracy_score, precision_recall_fscore_support, classification_report\n",
    "\n",
    "# Split data\n",
    "X_train, X_test, y_train, y_test = train_test_split(tfidf_matrix, df['Labels'], test_size=0.2, random_state=42)\n",
    "\n",
    "# Train Naive Bayes model\n",
    "nb_model = MultinomialNB()\n",
    "nb_model.fit(X_train, y_train)\n",
    "\n",
    "# Predict\n",
    "y_pred = nb_model.predict(X_test)\n",
    "\n",
    "# Evaluate\n",
    "accuracy = accuracy_score(y_test, y_pred)\n",
    "precision, recall, f1, _ = precision_recall_fscore_support(y_test, y_pred, average='weighted')\n",
    "\n",
    "print(f\"Accuracy: {accuracy:.2f}\")\n",
    "print(f\"Precision: {precision:.2f}\")\n",
    "print(f\"Recall: {recall:.2f}\")\n",
    "print(f\"F1-score: {f1:.2f}\")\n",
    "print(\"\\nDetailed Classification Report:\")\n",
    "print(classification_report(y_test, y_pred))\n"
   ]
  },
  {
   "cell_type": "code",
   "execution_count": null,
   "id": "36378b8e-545e-4f00-ac73-9d2417d5a62c",
   "metadata": {},
   "outputs": [],
   "source": [
    "#Performance Insights:\n",
    "\n",
    "Accuracy gives a general sense of correctness, but in multi-class problems like this, precision, recall, and F1-score are more telling.\n",
    "\n",
    "If your F1-score is high, it means the model balances precision and recall well across categories."
   ]
  },
  {
   "cell_type": "code",
   "execution_count": null,
   "id": "41d8649f-7325-4111-a6e7-6c81325d6f04",
   "metadata": {},
   "outputs": [],
   "source": [
    "#Challenges Encountered:\n",
    "\n",
    "Imbalanced classes: Some categories (like alt.atheism) may dominate, skewing predictions.\n",
    "\n",
    "Noisy text: Blog posts often contain headers, metadata, or irrelevant tokens that dilute signal.\n",
    "\n",
    "Short or vague posts: These may lack enough context for meaningful classification.\n",
    "\n",
    "Overfitting: If TF-IDF features are too sparse or high-dimensional, the model might overfit."
   ]
  },
  {
   "cell_type": "code",
   "execution_count": null,
   "id": "9c96e32f-a4fa-4300-9453-ffa28763549f",
   "metadata": {},
   "outputs": [],
   "source": [
    "#Reflection on Sentiment Analysis Results\n",
    "Sentiment Distribution:\n",
    "\n",
    "If most blog posts are neutral, it suggests factual or discussion-based content.\n",
    "\n",
    "A high number of positive posts may indicate enthusiastic or supportive tones.\n",
    "\n",
    "Negative sentiments could reflect criticism, frustration, or controversial topics."
   ]
  },
  {
   "cell_type": "code",
   "execution_count": null,
   "id": "386e97e4-5595-491e-8630-d4edb63a76cf",
   "metadata": {},
   "outputs": [],
   "source": [
    "#Implications:\n",
    "\n",
    "Categories like talk. politics, the Middle East, or alt. atheism might show more polarized sentiments.\n",
    "\n",
    "Sentiment analysis can reveal emotional undercurrents that classification alone misses—useful for understanding audience tone or topic sensitivity."
   ]
  }
 ],
 "metadata": {
  "kernelspec": {
   "display_name": "Python 3 (ipykernel)",
   "language": "python",
   "name": "python3"
  },
  "language_info": {
   "codemirror_mode": {
    "name": "ipython",
    "version": 3
   },
   "file_extension": ".py",
   "mimetype": "text/x-python",
   "name": "python",
   "nbconvert_exporter": "python",
   "pygments_lexer": "ipython3",
   "version": "3.12.4"
  }
 },
 "nbformat": 4,
 "nbformat_minor": 5
}
